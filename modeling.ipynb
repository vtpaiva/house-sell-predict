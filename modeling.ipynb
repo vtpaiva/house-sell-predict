{
 "cells": [
  {
   "cell_type": "code",
   "execution_count": 2,
   "id": "c9a9739a-66f7-48fb-899d-d582dbb571a3",
   "metadata": {},
   "outputs": [],
   "source": [
    "import pandas as pd"
   ]
  },
  {
   "cell_type": "code",
   "execution_count": 3,
   "id": "833071b6-e140-4ac9-9bb0-076321445415",
   "metadata": {},
   "outputs": [],
   "source": [
    "TEST_SIZE = 0.33\n",
    "RANDOM_STATE = 42"
   ]
  },
  {
   "cell_type": "code",
   "execution_count": null,
   "id": "9c1a2e4c-1d97-445e-807a-08aa5aed738a",
   "metadata": {},
   "outputs": [],
   "source": []
  }
 ],
 "metadata": {
  "kernelspec": {
   "display_name": "Python 3 (ipykernel)",
   "language": "python",
   "name": "python3"
  },
  "language_info": {
   "codemirror_mode": {
    "name": "ipython",
    "version": 3
   },
   "file_extension": ".py",
   "mimetype": "text/x-python",
   "name": "python",
   "nbconvert_exporter": "python",
   "pygments_lexer": "ipython3",
   "version": "3.11.5"
  }
 },
 "nbformat": 4,
 "nbformat_minor": 5
}
